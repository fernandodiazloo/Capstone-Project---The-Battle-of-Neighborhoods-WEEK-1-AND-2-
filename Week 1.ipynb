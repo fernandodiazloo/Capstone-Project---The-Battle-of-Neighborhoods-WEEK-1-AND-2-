{
 "cells": [
  {
   "cell_type": "markdown",
   "metadata": {},
   "source": [
    "# Week 1"
   ]
  },
  {
   "cell_type": "markdown",
   "metadata": {},
   "source": [
    "#### A description of the problem and a discussion of the background. "
   ]
  },
  {
   "cell_type": "markdown",
   "metadata": {},
   "source": [
    "We work in a Marketing Consulting Firm and a customar tell us he wants to open his own company to sell Burgers in Bogotá, Colombia. He is asking un to help him to find the best Locality.\n",
    "\n",
    "So, we need to use information about the Localities in Bogotá, in order to be sure that de place where our customer opens his Burger shop, has enough customers and as few competitors as possible."
   ]
  },
  {
   "cell_type": "markdown",
   "metadata": {},
   "source": [
    "#### A description of the data and how it will be used to solve the problem"
   ]
  },
  {
   "cell_type": "markdown",
   "metadata": {},
   "source": [
    "We will need to access following data:\n",
    "\n",
    "- The Localities of Bogotá, Colombia from Wikipedia: https://es.wikipedia.org/wiki/Anexo:Localidades_de_Bogot%C3%A1\n",
    "- The coordinates (latitude, longitude) ot these Localities of Bogotá from Open Street Map APIs\n",
    "- From Foursquare we will need following venues data:\n",
    "  - the burger joint venues of the Localities\n",
    "  - the offices venues of the Localities\n",
    "  - the high schools venues of the Localities\n",
    "  - the universities venues of the Localities\n",
    "\n",
    "We will then leverage the data in order to determine which locality is the most appropriate in order to locate the burger joint. "
   ]
  }
 ],
 "metadata": {
  "kernelspec": {
   "display_name": "Python 3",
   "language": "python",
   "name": "python3"
  },
  "language_info": {
   "codemirror_mode": {
    "name": "ipython",
    "version": 3
   },
   "file_extension": ".py",
   "mimetype": "text/x-python",
   "name": "python",
   "nbconvert_exporter": "python",
   "pygments_lexer": "ipython3",
   "version": "3.6.4"
  }
 },
 "nbformat": 4,
 "nbformat_minor": 2
}
